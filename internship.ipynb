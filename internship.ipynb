{
  "nbformat": 4,
  "nbformat_minor": 0,
  "metadata": {
    "colab": {
      "provenance": []
    },
    "kernelspec": {
      "name": "python3",
      "display_name": "Python 3"
    },
    "language_info": {
      "name": "python"
    }
  },
  "cells": [
    {
      "cell_type": "markdown",
      "source": [
        "**Basic Chatbot**"
      ],
      "metadata": {
        "id": "jcqRkkDA4sQN"
      }
    },
    {
      "cell_type": "code",
      "execution_count": null,
      "metadata": {
        "colab": {
          "base_uri": "https://localhost:8080/"
        },
        "id": "LzDo3EkInkFG",
        "outputId": "d6b0a24b-0d4f-4e9d-b350-a1843a7217d5"
      },
      "outputs": [
        {
          "output_type": "stream",
          "name": "stdout",
          "text": [
            "Hi, I am a chatbot. How can I help you?\n",
            "> hiiii\n",
            "Hello!\n",
            "> byy\n",
            "Goodbye! Have a great day!\n"
          ]
        }
      ],
      "source": [
        "import nltk\n",
        "from nltk.chat.util import Chat, reflections\n",
        "import re\n",
        "\n",
        "def get_response(raw_input):\n",
        "    raw_input = raw_input.lower()\n",
        "\n",
        "    if re.search(r'\\bh[i]+\\b', raw_input):\n",
        "        return \"Hello!\"\n",
        "    elif re.search(r'\\b(bye|goodbye|exit|\\bb[y]+)\\b', raw_input):\n",
        "        return \"Goodbye! Have a great day!\"\n",
        "    elif re.search(r('how are you'|\"how's going?\"), raw_input):\n",
        "        return \"I'm fine, thank you! How about you?\"\n",
        "    elif re.search(r'what is your name', raw_input):\n",
        "        return \"I am a chatbot created by Harvi.\"\n",
        "    else:\n",
        "        return \"Sorry, I do not understand that. Can you please rephrase?\"\n",
        "\n",
        "# Initialize the chatbot\n",
        "\n",
        "def start_chat():\n",
        "    print(\"Hi, I am a chatbot. How can I help you?\")\n",
        "    while True:\n",
        "        raw_input = input(\"> \").lower()\n",
        "        if re.search(r'\\b(bye|goodbye|exit|by+)\\b', raw_input):\n",
        "            print(\"Goodbye! Have a great day!\")\n",
        "            break\n",
        "        response = get_response(raw_input)\n",
        "        print(response)\n",
        "\n",
        "# Start the conversation\n",
        "start_chat()"
      ]
    },
    {
      "cell_type": "code",
      "source": [
        "!pip install nltk"
      ],
      "metadata": {
        "colab": {
          "base_uri": "https://localhost:8080/"
        },
        "id": "GNHuNsnhnsdW",
        "outputId": "53829cf6-d00f-46e9-d838-9acff2b21c5e"
      },
      "execution_count": null,
      "outputs": [
        {
          "output_type": "stream",
          "name": "stdout",
          "text": [
            "Requirement already satisfied: nltk in /usr/local/lib/python3.10/dist-packages (3.8.1)\n",
            "Requirement already satisfied: click in /usr/local/lib/python3.10/dist-packages (from nltk) (8.1.7)\n",
            "Requirement already satisfied: joblib in /usr/local/lib/python3.10/dist-packages (from nltk) (1.4.2)\n",
            "Requirement already satisfied: regex>=2021.8.3 in /usr/local/lib/python3.10/dist-packages (from nltk) (2023.12.25)\n",
            "Requirement already satisfied: tqdm in /usr/local/lib/python3.10/dist-packages (from nltk) (4.66.4)\n"
          ]
        }
      ]
    },
    {
      "cell_type": "markdown",
      "source": [
        "**Stock Portfolio Tracker**"
      ],
      "metadata": {
        "id": "X4Xt8EPQ4zbc"
      }
    },
    {
      "cell_type": "code",
      "source": [
        "!pip install Flask Flask-SQLAlchemy yfinance\n",
        "!pip install yfinance pandas\n"
      ],
      "metadata": {
        "id": "N4KnGNKfy35l",
        "colab": {
          "base_uri": "https://localhost:8080/"
        },
        "outputId": "cb3fae63-4363-4cdc-8d30-ddec6106293f",
        "collapsed": true
      },
      "execution_count": null,
      "outputs": [
        {
          "output_type": "stream",
          "name": "stdout",
          "text": [
            "Requirement already satisfied: Flask in /usr/local/lib/python3.10/dist-packages (2.2.5)\n",
            "Requirement already satisfied: Flask-SQLAlchemy in /usr/local/lib/python3.10/dist-packages (3.1.1)\n",
            "Requirement already satisfied: yfinance in /usr/local/lib/python3.10/dist-packages (0.2.38)\n",
            "Requirement already satisfied: Werkzeug>=2.2.2 in /usr/local/lib/python3.10/dist-packages (from Flask) (3.0.3)\n",
            "Requirement already satisfied: Jinja2>=3.0 in /usr/local/lib/python3.10/dist-packages (from Flask) (3.1.4)\n",
            "Requirement already satisfied: itsdangerous>=2.0 in /usr/local/lib/python3.10/dist-packages (from Flask) (2.2.0)\n",
            "Requirement already satisfied: click>=8.0 in /usr/local/lib/python3.10/dist-packages (from Flask) (8.1.7)\n",
            "Requirement already satisfied: sqlalchemy>=2.0.16 in /usr/local/lib/python3.10/dist-packages (from Flask-SQLAlchemy) (2.0.30)\n",
            "Requirement already satisfied: pandas>=1.3.0 in /usr/local/lib/python3.10/dist-packages (from yfinance) (2.0.3)\n",
            "Requirement already satisfied: numpy>=1.16.5 in /usr/local/lib/python3.10/dist-packages (from yfinance) (1.25.2)\n",
            "Requirement already satisfied: requests>=2.31 in /usr/local/lib/python3.10/dist-packages (from yfinance) (2.31.0)\n",
            "Requirement already satisfied: multitasking>=0.0.7 in /usr/local/lib/python3.10/dist-packages (from yfinance) (0.0.11)\n",
            "Requirement already satisfied: lxml>=4.9.1 in /usr/local/lib/python3.10/dist-packages (from yfinance) (4.9.4)\n",
            "Requirement already satisfied: appdirs>=1.4.4 in /usr/local/lib/python3.10/dist-packages (from yfinance) (1.4.4)\n",
            "Requirement already satisfied: pytz>=2022.5 in /usr/local/lib/python3.10/dist-packages (from yfinance) (2023.4)\n",
            "Requirement already satisfied: frozendict>=2.3.4 in /usr/local/lib/python3.10/dist-packages (from yfinance) (2.4.4)\n",
            "Requirement already satisfied: peewee>=3.16.2 in /usr/local/lib/python3.10/dist-packages (from yfinance) (3.17.5)\n",
            "Requirement already satisfied: beautifulsoup4>=4.11.1 in /usr/local/lib/python3.10/dist-packages (from yfinance) (4.12.3)\n",
            "Requirement already satisfied: html5lib>=1.1 in /usr/local/lib/python3.10/dist-packages (from yfinance) (1.1)\n",
            "Requirement already satisfied: soupsieve>1.2 in /usr/local/lib/python3.10/dist-packages (from beautifulsoup4>=4.11.1->yfinance) (2.5)\n",
            "Requirement already satisfied: six>=1.9 in /usr/local/lib/python3.10/dist-packages (from html5lib>=1.1->yfinance) (1.16.0)\n",
            "Requirement already satisfied: webencodings in /usr/local/lib/python3.10/dist-packages (from html5lib>=1.1->yfinance) (0.5.1)\n",
            "Requirement already satisfied: MarkupSafe>=2.0 in /usr/local/lib/python3.10/dist-packages (from Jinja2>=3.0->Flask) (2.1.5)\n",
            "Requirement already satisfied: python-dateutil>=2.8.2 in /usr/local/lib/python3.10/dist-packages (from pandas>=1.3.0->yfinance) (2.8.2)\n",
            "Requirement already satisfied: tzdata>=2022.1 in /usr/local/lib/python3.10/dist-packages (from pandas>=1.3.0->yfinance) (2024.1)\n",
            "Requirement already satisfied: charset-normalizer<4,>=2 in /usr/local/lib/python3.10/dist-packages (from requests>=2.31->yfinance) (3.3.2)\n",
            "Requirement already satisfied: idna<4,>=2.5 in /usr/local/lib/python3.10/dist-packages (from requests>=2.31->yfinance) (3.7)\n",
            "Requirement already satisfied: urllib3<3,>=1.21.1 in /usr/local/lib/python3.10/dist-packages (from requests>=2.31->yfinance) (2.0.7)\n",
            "Requirement already satisfied: certifi>=2017.4.17 in /usr/local/lib/python3.10/dist-packages (from requests>=2.31->yfinance) (2024.2.2)\n",
            "Requirement already satisfied: typing-extensions>=4.6.0 in /usr/local/lib/python3.10/dist-packages (from sqlalchemy>=2.0.16->Flask-SQLAlchemy) (4.11.0)\n",
            "Requirement already satisfied: greenlet!=0.4.17 in /usr/local/lib/python3.10/dist-packages (from sqlalchemy>=2.0.16->Flask-SQLAlchemy) (3.0.3)\n",
            "Requirement already satisfied: yfinance in /usr/local/lib/python3.10/dist-packages (0.2.38)\n",
            "Requirement already satisfied: pandas in /usr/local/lib/python3.10/dist-packages (2.0.3)\n",
            "Requirement already satisfied: numpy>=1.16.5 in /usr/local/lib/python3.10/dist-packages (from yfinance) (1.25.2)\n",
            "Requirement already satisfied: requests>=2.31 in /usr/local/lib/python3.10/dist-packages (from yfinance) (2.31.0)\n",
            "Requirement already satisfied: multitasking>=0.0.7 in /usr/local/lib/python3.10/dist-packages (from yfinance) (0.0.11)\n",
            "Requirement already satisfied: lxml>=4.9.1 in /usr/local/lib/python3.10/dist-packages (from yfinance) (4.9.4)\n",
            "Requirement already satisfied: appdirs>=1.4.4 in /usr/local/lib/python3.10/dist-packages (from yfinance) (1.4.4)\n",
            "Requirement already satisfied: pytz>=2022.5 in /usr/local/lib/python3.10/dist-packages (from yfinance) (2023.4)\n",
            "Requirement already satisfied: frozendict>=2.3.4 in /usr/local/lib/python3.10/dist-packages (from yfinance) (2.4.4)\n",
            "Requirement already satisfied: peewee>=3.16.2 in /usr/local/lib/python3.10/dist-packages (from yfinance) (3.17.5)\n",
            "Requirement already satisfied: beautifulsoup4>=4.11.1 in /usr/local/lib/python3.10/dist-packages (from yfinance) (4.12.3)\n",
            "Requirement already satisfied: html5lib>=1.1 in /usr/local/lib/python3.10/dist-packages (from yfinance) (1.1)\n",
            "Requirement already satisfied: python-dateutil>=2.8.2 in /usr/local/lib/python3.10/dist-packages (from pandas) (2.8.2)\n",
            "Requirement already satisfied: tzdata>=2022.1 in /usr/local/lib/python3.10/dist-packages (from pandas) (2024.1)\n",
            "Requirement already satisfied: soupsieve>1.2 in /usr/local/lib/python3.10/dist-packages (from beautifulsoup4>=4.11.1->yfinance) (2.5)\n",
            "Requirement already satisfied: six>=1.9 in /usr/local/lib/python3.10/dist-packages (from html5lib>=1.1->yfinance) (1.16.0)\n",
            "Requirement already satisfied: webencodings in /usr/local/lib/python3.10/dist-packages (from html5lib>=1.1->yfinance) (0.5.1)\n",
            "Requirement already satisfied: charset-normalizer<4,>=2 in /usr/local/lib/python3.10/dist-packages (from requests>=2.31->yfinance) (3.3.2)\n",
            "Requirement already satisfied: idna<4,>=2.5 in /usr/local/lib/python3.10/dist-packages (from requests>=2.31->yfinance) (3.7)\n",
            "Requirement already satisfied: urllib3<3,>=1.21.1 in /usr/local/lib/python3.10/dist-packages (from requests>=2.31->yfinance) (2.0.7)\n",
            "Requirement already satisfied: certifi>=2017.4.17 in /usr/local/lib/python3.10/dist-packages (from requests>=2.31->yfinance) (2024.2.2)\n"
          ]
        }
      ]
    },
    {
      "cell_type": "code",
      "source": [
        "import pandas as pd\n",
        "import yfinance as yf\n",
        "\n",
        "# Define your portfolio with correct ticker symbols\n",
        "portfolio = {\n",
        "    'Ticker': ['ASHOKLEY.NS', 'GVKPIL.NS', 'UCOBANK.NS','RELIANCE.NS'],  # Add your stock tickers here with exchange suffix\n",
        "    'Shares': [100, 1500, 400,50]                             # Corresponding number of shares\n",
        "}\n",
        "\n",
        "# Convert portfolio to DataFrame\n",
        "portfolio_df = pd.DataFrame(portfolio)\n",
        "\n",
        "# Function to fetch current stock prices\n",
        "def fetch_current_prices(tickers):\n",
        "    prices = []\n",
        "    for ticker in tickers:\n",
        "        stock = yf.Ticker(ticker)\n",
        "        try:\n",
        "            prices.append(stock.history(period=\"1d\")['Close'][0])\n",
        "        except IndexError:\n",
        "            prices.append(float('nan'))  # Handle case where no data is returned\n",
        "    return prices\n",
        "\n",
        "# Fetch current prices\n",
        "portfolio_df['Current Price'] = fetch_current_prices(portfolio_df['Ticker'])\n",
        "\n",
        "# Calculate total value\n",
        "portfolio_df['Total Value'] = portfolio_df['Shares'] * portfolio_df['Current Price']\n",
        "\n",
        "# Calculate the total portfolio value\n",
        "total_portfolio_value = portfolio_df['Total Value'].sum()\n",
        "\n",
        "# Display the portfolio\n",
        "print(portfolio_df)\n",
        "print(f'\\nTotal Portfolio Value: ${total_portfolio_value:.2f}')\n"
      ],
      "metadata": {
        "colab": {
          "base_uri": "https://localhost:8080/"
        },
        "id": "xVHhRxjd9s_3",
        "outputId": "0ff16897-20d9-4b7d-c47d-0b285c5788c7"
      },
      "execution_count": null,
      "outputs": [
        {
          "output_type": "stream",
          "name": "stdout",
          "text": [
            "        Ticker  Shares  Current Price    Total Value\n",
            "0  ASHOKLEY.NS     100     209.600006   20960.000610\n",
            "1    GVKPIL.NS    1500      10.900000   16349.999428\n",
            "2   UCOBANK.NS     400      56.599998   22639.999390\n",
            "3  RELIANCE.NS      50    2920.500000  146025.000000\n",
            "\n",
            "Total Portfolio Value: $205975.00\n"
          ]
        }
      ]
    },
    {
      "cell_type": "markdown",
      "source": [
        "**Hangman Game**"
      ],
      "metadata": {
        "id": "bXx_6aJf48ta"
      }
    },
    {
      "cell_type": "code",
      "source": [
        "import requests\n",
        "import random\n",
        "\n",
        "def get_random_word():\n",
        "    response = requests.get(\"https://random-word-api.herokuapp.com/word?number=1\")\n",
        "    if response.status_code == 200:\n",
        "        return response.json()[0]\n",
        "    else:\n",
        "        return None\n",
        "\n",
        "def get_hints(word):\n",
        "    response = requests.get(f\"https://api.datamuse.com/words?ml={word}&max=5\")\n",
        "    if response.status_code == 200 and response.json():\n",
        "        hints = [hint['word'] for hint in response.json()]\n",
        "        return hints\n",
        "    else:\n",
        "        return ['No hints available']\n",
        "\n",
        "def display_current_state(word, guessed_letters):\n",
        "    return ' '.join([letter if letter in guessed_letters else '_' for letter in word])\n",
        "\n",
        "def hangman():\n",
        "    word = get_random_word()\n",
        "    if not word:\n",
        "        print(\"Failed to retrieve a word. Please try again later.\")\n",
        "        return\n",
        "\n",
        "    hints = get_hints(word)\n",
        "    guessed_letters = set()\n",
        "    incorrect_guesses = 0\n",
        "    max_incorrect_guesses = 6\n",
        "\n",
        "    print(\"Welcome to Hangman!\")\n",
        "    print(f\"Hints: {', '.join(hints)}\")\n",
        "    print(display_current_state(word, guessed_letters))\n",
        "\n",
        "    while incorrect_guesses < max_incorrect_guesses:\n",
        "        guess = input(\"Guess a letter: \").lower()\n",
        "\n",
        "        if guess in guessed_letters:\n",
        "            print(f\"You already guessed '{guess}'. Try again.\")\n",
        "        elif guess in word:\n",
        "            guessed_letters.add(guess)\n",
        "            print(f\"Good guess! {display_current_state(word, guessed_letters)}\")\n",
        "        else:\n",
        "            guessed_letters.add(guess)\n",
        "            incorrect_guesses += 1\n",
        "            print(f\"Incorrect guess. You have {max_incorrect_guesses - incorrect_guesses} guesses left.\")\n",
        "            print(display_current_state(word, guessed_letters))\n",
        "\n",
        "        if all(letter in guessed_letters for letter in word):\n",
        "            print(f\"Congratulations! You guessed the word '{word}'.\")\n",
        "            break\n",
        "    else:\n",
        "        print(f\"Sorry, you've run out of guesses. The word was '{word}'.\")\n",
        "\n",
        "# Run the Hangman game\n",
        "hangman()\n"
      ],
      "metadata": {
        "collapsed": true,
        "colab": {
          "base_uri": "https://localhost:8080/"
        },
        "id": "9ZxMka4Z6mpJ",
        "outputId": "b6791fb2-180c-47c0-8b1b-9e01826e34d5"
      },
      "execution_count": 2,
      "outputs": [
        {
          "output_type": "stream",
          "name": "stdout",
          "text": [
            "Welcome to Hangman!\n",
            "Hints: nitespot, nightery, nightspot, nightclub, cabaret\n",
            "_ _ _ _ _ _ _\n",
            "Guess a letter: b\n",
            "Incorrect guess. You have 5 guesses left.\n",
            "_ _ _ _ _ _ _\n",
            "Guess a letter: a\n",
            "Incorrect guess. You have 4 guesses left.\n",
            "_ _ _ _ _ _ _\n",
            "Guess a letter: e\n",
            "Good guess! _ _ _ e _ _ e\n",
            "Guess a letter: i\n",
            "Good guess! _ i _ e _ i e\n",
            "Guess a letter: o\n",
            "Incorrect guess. You have 3 guesses left.\n",
            "_ i _ e _ i e\n",
            "Guess a letter: n\n",
            "Good guess! n i _ e _ i e\n",
            "Guess a letter: g\n",
            "Incorrect guess. You have 2 guesses left.\n",
            "n i _ e _ i e\n",
            "Guess a letter: t\n",
            "Good guess! n i t e _ i e\n",
            "Guess a letter: z\n",
            "Incorrect guess. You have 1 guesses left.\n",
            "n i t e _ i e\n",
            "Guess a letter: b\n",
            "You already guessed 'b'. Try again.\n",
            "Guess a letter: m\n",
            "Incorrect guess. You have 0 guesses left.\n",
            "n i t e _ i e\n",
            "Sorry, you've run out of guesses. The word was 'niterie'.\n"
          ]
        }
      ]
    }
  ]
}